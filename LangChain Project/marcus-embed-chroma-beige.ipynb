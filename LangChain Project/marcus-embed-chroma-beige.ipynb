{
 "cells": [
  {
   "cell_type": "code",
   "execution_count": null,
   "id": "e104295d-00f6-42f4-b7b9-b82965432ef7",
   "metadata": {},
   "outputs": [],
   "source": [
    "# imports\n",
    "import ast  # for converting embeddings saved as strings back to arrays\n",
    "import openai  # for calling the OpenAI API\n",
    "import pandas as pd  # for storing text and embeddings data\n",
    "import tiktoken  # for counting tokens\n",
    "from scipy import spatial # for calculating vector similarities for search\n",
    "import os\n",
    " \n",
    "openai.api_key = os.environ[\"OPENAI_API_KEY\"]\n",
    "\n",
    "VECTOR_OUTPUT_FILE = \"vectorized_beige.csv\"\n",
    "\n",
    "# models\n",
    "EMBEDDING_MODEL = \"text-embedding-ada-002\"\n",
    "GPT_MODEL = \"gpt-3.5-turbo\""
   ]
  },
  {
   "cell_type": "code",
   "execution_count": 2,
   "id": "418b0c7b-60ba-4160-85e7-0b2dd7bb055d",
   "metadata": {},
   "outputs": [],
   "source": [
    "from langchain.document_loaders import NotionDirectoryLoader\n",
    "from langchain.text_splitter import MarkdownHeaderTextSplitter"
   ]
  },
  {
   "cell_type": "code",
   "execution_count": 3,
   "id": "174b7401-214b-4cc2-914c-28d81d975112",
   "metadata": {},
   "outputs": [],
   "source": [
    "# Headers in the Beige documents\n",
    "headers_to_split_on = [\n",
    "    (\"#\", \"Overall\"),\n",
    "    (\"#\", \"District:\"),\n",
    "    (\"##\", \"Category:\"),\n",
    "    (\"##\", \"District:\"),\n",
    "    (\"##\", \"Overall Economic Activity:\"),\n",
    "    (\"###\", \"Period:\"),\n",
    "]"
   ]
  },
  {
   "cell_type": "code",
   "execution_count": 4,
   "id": "aab7d90e-d19c-44e5-8ac3-89447cb83aac",
   "metadata": {},
   "outputs": [],
   "source": [
    "# Read the whole document into the memory\n",
    "\n",
    "def read_large_file_into_buffer(file_path):\n",
    "   with open(file_path, 'r') as file:\n",
    "      file_contents = file.read()\n",
    "   return file_contents\n",
    "\n",
    "file_content = read_large_file_into_buffer(\"combined-beige.txt\")"
   ]
  },
  {
   "cell_type": "code",
   "execution_count": 5,
   "id": "b64807fb-b2cf-4a11-8cbc-dbdff7ad79ca",
   "metadata": {},
   "outputs": [],
   "source": [
    "# Split the document into chunks based on the header info\n",
    "\n",
    "markdown_splitter = MarkdownHeaderTextSplitter(\n",
    "    headers_to_split_on=headers_to_split_on\n",
    ")\n",
    "md_header_splits = markdown_splitter.split_text(file_content)"
   ]
  },
  {
   "cell_type": "code",
   "execution_count": 6,
   "id": "1ee29150-fa2b-4c6c-b547-bda4d7f8d1d0",
   "metadata": {},
   "outputs": [
    {
     "data": {
      "text/plain": [
       "756"
      ]
     },
     "execution_count": 6,
     "metadata": {},
     "output_type": "execute_result"
    }
   ],
   "source": [
    "# Show number of chunk splitted\n",
    "\n",
    "len(md_header_splits)"
   ]
  },
  {
   "cell_type": "code",
   "execution_count": 7,
   "id": "e252a2f0-70d3-46fe-9998-05c84a58062f",
   "metadata": {},
   "outputs": [
    {
     "data": {
      "text/plain": [
       "Document(page_content=\"Period: This report was prepared based on information collected from December 01,2022 to January 8, 2023.\\nOverall economic activity was relatively unchanged since the previous report. Five Districts reported slight or modest increases in overall activity, six noted no change or slight declines, and one cited a significant decline. On balance, contacts generally expected little growth in the months ahead. Consumer spending increased slightly, with some retailers reporting more robust sales over the holidays. Other retailers noted that high inflation continued to reduce consumers' purchasing power, particularly among low- and moderate-income households. Auto sales were flat on average, but some dealers noted that increased vehicle availability had boosted sales. Tourism contacts reported moderate to robust activity augmented by strong holiday travel. Manufacturers indicated that activity declined modestly on average, and, in many Districts, reported that supply chain disruptions had eased. Housing markets continued to weaken, with sales and construction declining across Districts. Commercial real estate activity slowed slightly, on average, with more notable weakening in the office market. Nonfinancial services firms experienced stable demand on balance. Most bankers reported that residential mortgage demand remained weak, and some said higher borrowing costs had begun to dampen commercial lending. Energy activity continued to increase moderately, and agriculture conditions were generally unchanged or improving.\", metadata={'Overall': 'Overall', 'Category:': 'Overall Economic Activity:'})"
      ]
     },
     "execution_count": 7,
     "metadata": {},
     "output_type": "execute_result"
    }
   ],
   "source": [
    "# Inpspect the first chunk\n",
    "\n",
    "md_header_splits[0]"
   ]
  },
  {
   "cell_type": "code",
   "execution_count": 8,
   "id": "1d4dc434-a272-4532-bcf7-904529d89360",
   "metadata": {},
   "outputs": [
    {
     "data": {
      "text/plain": [
       "\"Period: This report was prepared based on information collected from December 01,2022 to January 8, 2023.\\nOverall economic activity was relatively unchanged since the previous report. Five Districts reported slight or modest increases in overall activity, six noted no change or slight declines, and one cited a significant decline. On balance, contacts generally expected little growth in the months ahead. Consumer spending increased slightly, with some retailers reporting more robust sales over the holidays. Other retailers noted that high inflation continued to reduce consumers' purchasing power, particularly among low- and moderate-income households. Auto sales were flat on average, but some dealers noted that increased vehicle availability had boosted sales. Tourism contacts reported moderate to robust activity augmented by strong holiday travel. Manufacturers indicated that activity declined modestly on average, and, in many Districts, reported that supply chain disruptions had eased. Housing markets continued to weaken, with sales and construction declining across Districts. Commercial real estate activity slowed slightly, on average, with more notable weakening in the office market. Nonfinancial services firms experienced stable demand on balance. Most bankers reported that residential mortgage demand remained weak, and some said higher borrowing costs had begun to dampen commercial lending. Energy activity continued to increase moderately, and agriculture conditions were generally unchanged or improving.\""
      ]
     },
     "execution_count": 8,
     "metadata": {},
     "output_type": "execute_result"
    }
   ],
   "source": [
    "# Inpspect the first chunk's page content\n",
    "\n",
    "md_header_splits[0].page_content"
   ]
  },
  {
   "cell_type": "code",
   "execution_count": 9,
   "id": "b814d982-9cdf-4be9-a75d-958a3c5e7665",
   "metadata": {},
   "outputs": [
    {
     "data": {
      "text/plain": [
       "{'Overall': 'Overall', 'Category:': 'Overall Economic Activity:'}"
      ]
     },
     "execution_count": 9,
     "metadata": {},
     "output_type": "execute_result"
    }
   ],
   "source": [
    "# Inpspect the first chuck's meta data\n",
    "\n",
    "md_header_splits[0].metadata"
   ]
  },
  {
   "cell_type": "code",
   "execution_count": 10,
   "id": "cd0130b0-59ab-449a-a210-87148089b267",
   "metadata": {},
   "outputs": [],
   "source": [
    "# Merge the meta back into the chunk's page content so that the meta data will also be embedded and become searchable in the similarity serach\n",
    "\n",
    "for x in range(len(md_header_splits)):\n",
    "    md_header_splits[x].page_content = str(md_header_splits[x].metadata) + \"\\n\" + md_header_splits[x].page_content"
   ]
  },
  {
   "cell_type": "code",
   "execution_count": 11,
   "id": "46891cc6-b91c-48d1-8ca4-a3b1d3c67286",
   "metadata": {},
   "outputs": [
    {
     "data": {
      "text/plain": [
       "Document(page_content=\"{'Overall': 'Overall', 'Category:': 'Overall Economic Activity:'}\\nPeriod: This report was prepared based on information collected from December 01,2022 to January 8, 2023.\\nOverall economic activity was relatively unchanged since the previous report. Five Districts reported slight or modest increases in overall activity, six noted no change or slight declines, and one cited a significant decline. On balance, contacts generally expected little growth in the months ahead. Consumer spending increased slightly, with some retailers reporting more robust sales over the holidays. Other retailers noted that high inflation continued to reduce consumers' purchasing power, particularly among low- and moderate-income households. Auto sales were flat on average, but some dealers noted that increased vehicle availability had boosted sales. Tourism contacts reported moderate to robust activity augmented by strong holiday travel. Manufacturers indicated that activity declined modestly on average, and, in many Districts, reported that supply chain disruptions had eased. Housing markets continued to weaken, with sales and construction declining across Districts. Commercial real estate activity slowed slightly, on average, with more notable weakening in the office market. Nonfinancial services firms experienced stable demand on balance. Most bankers reported that residential mortgage demand remained weak, and some said higher borrowing costs had begun to dampen commercial lending. Energy activity continued to increase moderately, and agriculture conditions were generally unchanged or improving.\", metadata={'Overall': 'Overall', 'Category:': 'Overall Economic Activity:'})"
      ]
     },
     "execution_count": 11,
     "metadata": {},
     "output_type": "execute_result"
    }
   ],
   "source": [
    "md_header_splits[0]"
   ]
  },
  {
   "cell_type": "raw",
   "id": "f10bc09e-825d-4468-9ed1-4bfadb84ae27",
   "metadata": {},
   "source": [
    "# Specify the location of the chroma DB for persistence of embedding info\n",
    "\n",
    "from langchain.vectorstores import Chroma\n",
    "persist_directory = 'marcus/chroma/'"
   ]
  },
  {
   "cell_type": "code",
   "execution_count": 13,
   "id": "5e7fb481-1af4-4d6e-b37d-6178c43373d3",
   "metadata": {},
   "outputs": [],
   "source": [
    "# Initialize the embedding function\n",
    "\n",
    "from langchain.embeddings.openai import OpenAIEmbeddings\n",
    "embedding = OpenAIEmbeddings()\n"
   ]
  },
  {
   "cell_type": "code",
   "execution_count": 14,
   "id": "1db12219-6fe4-4443-8eef-f6e0cdc0e1d9",
   "metadata": {},
   "outputs": [],
   "source": [
    "# Do the embedding and persiste the embedded info into the Chroma vector DB\n",
    "\n",
    "vectordb = Chroma.from_documents(\n",
    "    documents=md_header_splits,\n",
    "    embedding=embedding,\n",
    "    persist_directory=persist_directory\n",
    ")"
   ]
  },
  {
   "cell_type": "code",
   "execution_count": 15,
   "id": "fbbc805a-0a42-4207-93f4-3fdeb996c3e5",
   "metadata": {},
   "outputs": [
    {
     "name": "stdout",
     "output_type": "stream",
     "text": [
      "756\n"
     ]
    },
    {
     "data": {
      "text/plain": [
       "756"
      ]
     },
     "execution_count": 15,
     "metadata": {},
     "output_type": "execute_result"
    }
   ],
   "source": [
    "# Check if the numnber of embedded entries mateches the number of documents\n",
    "\n",
    "print(vectordb._collection.count())\n",
    "len(md_header_splits)"
   ]
  },
  {
   "cell_type": "code",
   "execution_count": 16,
   "id": "15d7006e-405b-44b1-b358-60e234324f85",
   "metadata": {},
   "outputs": [],
   "source": [
    "# Do a similarity search, ask the Chroma Vector DB to return the top 12 documents with the closest similarity with the question\n",
    "\n",
    "question = \"Tell me the Federal Reserve Bank of San Francisco District labor markets situation in the month of January\"\n",
    "docs = vectordb.similarity_search(question,k=12)"
   ]
  },
  {
   "cell_type": "code",
   "execution_count": 17,
   "id": "ffe5d20a-aa6d-4a80-894d-6cd6e1e82867",
   "metadata": {},
   "outputs": [
    {
     "data": {
      "text/plain": [
       "12"
      ]
     },
     "execution_count": 17,
     "metadata": {},
     "output_type": "execute_result"
    }
   ],
   "source": [
    "# Check the number of documents returned by the Chroma DB\n",
    "len(docs)"
   ]
  },
  {
   "cell_type": "code",
   "execution_count": 18,
   "id": "0b9abdb4-e939-4a66-a578-33e78e38c7c0",
   "metadata": {},
   "outputs": [
    {
     "data": {
      "text/plain": [
       "Document(page_content=\"{'Overall': 'District: Federal Reserve Bank of San Francisco', 'Category:': 'Category: Labor Markets'}\\nPeriod: This report was prepared based on information collected from December 01,2022 to January 8, 2023.\\nEmployment levels grew at a modest pace during the reporting period as labor availability improved across the District. Job turnover and voluntary quits reportedly fell in recent weeks, and hiring difficulties eased in consumer services sectors such as retail, food services, and hospitality. Contacts reported strong competition for labor and difficulties attracting experienced talent in health care, legal services, manufacturing, and skilled trades. Several real estate firms and mortgage providers reported reducing the number of open positions in response to moderating demand and noted that recent hiring freezes and layoffs in the technology sector improved the size and quality of the applicant pool. Contacts in Alaska and Hawaii continued to report challenges filling entry-level positions, partly due to elevated shelter costs. Several employers noted that, despite overall economic uncertainty, they plan to maintain current employment levels to avoid the hiring challenges they have experienced throughout the pandemic.  \\nPeriod: This report was prepared based on information collected from December 01,2022 to January 8, 2023.\\nWages grew further, albeit at a slower pace. Workers continued to ask for higher pay and end-of-year bonuses in response to elevated living costs. Employers continued to use bonuses and comprehensive benefits packages to attract and retain talent and reported more willingness to push back against flexible work arrangement requests.\", metadata={'Category:': 'Category: Labor Markets', 'Overall': 'District: Federal Reserve Bank of San Francisco'})"
      ]
     },
     "execution_count": 18,
     "metadata": {},
     "output_type": "execute_result"
    }
   ],
   "source": [
    "# Inspect the content of the first returned document\n",
    "\n",
    "docs[0]"
   ]
  },
  {
   "cell_type": "code",
   "execution_count": null,
   "id": "52694277-df0b-47cd-b863-ae9eda296560",
   "metadata": {},
   "outputs": [],
   "source": []
  }
 ],
 "metadata": {
  "kernelspec": {
   "display_name": "Python 3 (ipykernel)",
   "language": "python",
   "name": "python3"
  },
  "language_info": {
   "codemirror_mode": {
    "name": "ipython",
    "version": 3
   },
   "file_extension": ".py",
   "mimetype": "text/x-python",
   "name": "python",
   "nbconvert_exporter": "python",
   "pygments_lexer": "ipython3",
   "version": "3.11.4"
  }
 },
 "nbformat": 4,
 "nbformat_minor": 5
}
