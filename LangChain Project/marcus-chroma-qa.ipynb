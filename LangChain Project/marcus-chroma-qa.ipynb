{
 "cells": [
  {
   "cell_type": "code",
   "execution_count": 1,
   "id": "ecd013ee-a658-4629-a6d0-76a63915a771",
   "metadata": {},
   "outputs": [],
   "source": [
    "# imports\n",
    "import ast  # for converting embeddings saved as strings back to arrays\n",
    "import openai  # for calling the OpenAI API\n",
    "import pandas as pd  # for storing text and embeddings data\n",
    "import tiktoken  # for counting tokens\n",
    "from scipy import spatial # for calculating vector similarities for search\n",
    "import os\n",
    " \n",
    "openai.api_key = os.environ[\"OPENAI_API_KEY\"]\n",
    "\n",
    "# models\n",
    "EMBEDDING_MODEL = \"text-embedding-ada-002\"\n",
    "GPT_MODEL = \"gpt-3.5-turbo\"\n",
    "\n",
    "# Chroma vector DB location\n",
    "from langchain.vectorstores import Chroma\n",
    "persist_directory = 'marcus/chroma/'"
   ]
  },
  {
   "cell_type": "code",
   "execution_count": 2,
   "id": "d10fadcc-1b21-4e4b-adfe-e6fb9d49e72b",
   "metadata": {},
   "outputs": [],
   "source": [
    "from langchain.embeddings.openai import OpenAIEmbeddings\n",
    "embedding = OpenAIEmbeddings()\n",
    "\n",
    "# Initialize Chroma DB\n",
    "vectordb = Chroma(persist_directory=persist_directory, embedding_function=embedding)"
   ]
  },
  {
   "cell_type": "code",
   "execution_count": 3,
   "id": "58ce5714-bf75-4609-a14e-5a980780be43",
   "metadata": {},
   "outputs": [
    {
     "name": "stdout",
     "output_type": "stream",
     "text": [
      "756\n"
     ]
    }
   ],
   "source": [
    "# show number of records in the DB\n",
    "print(vectordb._collection.count())"
   ]
  },
  {
   "cell_type": "code",
   "execution_count": 4,
   "id": "4da6e40e-e077-4b57-b1b5-2d6cc92a65dd",
   "metadata": {},
   "outputs": [],
   "source": [
    "from langchain.chains import ConversationalRetrievalChain\n",
    "from langchain.chat_models import ChatOpenAI\n",
    "from langchain.memory import ConversationBufferMemory\n",
    "\n",
    "#Prepare the conversation memory\n",
    "memory = ConversationBufferMemory(\n",
    "     memory_key=\"history\",\n",
    "    return_messages=True\n",
    ")\n",
    "\n",
    "# Initialize the GPT model\n",
    "llm = ChatOpenAI(model_name=GPT_MODEL, temperature=0)\n",
    "\n",
    "# Prepare the vector DB for \"Similarity\" search and instruct the DB to return the top 5 records with similarity score\n",
    "retriever = vectordb.as_retriever(search_type=\"similarity\", search_kwargs={\"k\": 5})"
   ]
  },
  {
   "cell_type": "code",
   "execution_count": 5,
   "id": "6add6c15-8054-4eef-a159-6ee727ed61aa",
   "metadata": {},
   "outputs": [],
   "source": [
    "from langchain.prompts import PromptTemplate\n",
    "from langchain.chains import RetrievalQA\n",
    "\n",
    "support_template = \"\"\"\n",
    "You answer questions about the state of the US economy. Respond in a professional tone, with concise answers.\\\n",
    "Use the articles below on the United States Economy to answer the subsequent question. If the time period in question\\\n",
    "is outside the scope of the document return a statement of such as the only response. Do not generate answer from the\\\n",
    "provided materials if the provided materials are out of the time scope specified in the question. If the answer cannot\\\n",
    "be found in the articles, write \"I could not find an answer\".\n",
    "    \n",
    "\n",
    "{context}\n",
    "\n",
    "Question: {question}\"\"\"\n",
    "\n",
    "# Prepare the prompt to be used in the Q&A \n",
    "SUPPORT_PROMPT = PromptTemplate(template=support_template, input_variables=[\"context\", \"question\"])\n",
    "\n",
    "# Initialize the Q&A handle\n",
    "qa = RetrievalQA.from_chain_type(\n",
    "    llm=llm,\n",
    "    chain_type=\"stuff\",\n",
    "    retriever=retriever,\n",
    "    chain_type_kwargs={\"prompt\": SUPPORT_PROMPT},\n",
    "    memory = memory,\n",
    ")\n"
   ]
  },
  {
   "cell_type": "code",
   "execution_count": 6,
   "id": "fcecade4-c33e-4281-98ce-055d93070735",
   "metadata": {},
   "outputs": [],
   "source": [
    "import langchain\n",
    "\n",
    "# Set this flag to True for displaying debugging info\n",
    "#langchain.debug = True"
   ]
  },
  {
   "cell_type": "code",
   "execution_count": 7,
   "id": "eace00dd-f521-4dad-945c-937e52ce05b7",
   "metadata": {},
   "outputs": [
    {
     "data": {
      "text/plain": [
       "'Based on the provided information, the labor market situation in the Federal Reserve Bank of San Francisco District in the month of January showed that employment levels grew at a modest pace. Labor availability improved across the District, leading to a decrease in job turnover and voluntary quits. Hiring difficulties also eased in consumer services sectors such as retail, food services, and hospitality. However, there were still challenges in attracting experienced talent in sectors like health care, legal services, manufacturing, and skilled trades. Some real estate firms and mortgage providers reduced open positions in response to moderating demand. Overall, employers planned to maintain current employment levels to avoid hiring challenges experienced throughout the pandemic.'"
      ]
     },
     "execution_count": 7,
     "metadata": {},
     "output_type": "execute_result"
    }
   ],
   "source": [
    "# Start asking question\n",
    "\n",
    "question = \"Tell me the Federal Reserve Bank of San Francisco District labor markets situation in the month of January\"\n",
    "result = qa({\"query\": question})\n",
    "result[\"result\"]\n"
   ]
  },
  {
   "cell_type": "code",
   "execution_count": 8,
   "id": "2b66f1fe-2a7a-4bab-9176-7f1e0770c4d4",
   "metadata": {},
   "outputs": [
    {
     "name": "stdout",
     "output_type": "stream",
     "text": [
      "[HumanMessage(content='Tell me the Federal Reserve Bank of San Francisco District labor markets situation in the month of January', additional_kwargs={}, example=False), AIMessage(content='Based on the provided information, the labor market situation in the Federal Reserve Bank of San Francisco District in the month of January showed that employment levels grew at a modest pace. Labor availability improved across the District, leading to a decrease in job turnover and voluntary quits. Hiring difficulties also eased in consumer services sectors such as retail, food services, and hospitality. However, there were still challenges in attracting experienced talent in sectors like health care, legal services, manufacturing, and skilled trades. Some real estate firms and mortgage providers reduced open positions in response to moderating demand. Overall, employers planned to maintain current employment levels to avoid hiring challenges experienced throughout the pandemic.', additional_kwargs={}, example=False)]\n"
     ]
    }
   ],
   "source": [
    "print(memory.buffer)"
   ]
  },
  {
   "cell_type": "code",
   "execution_count": 9,
   "id": "f490b874-2308-44d5-973d-3531ebe08ba2",
   "metadata": {},
   "outputs": [
    {
     "data": {
      "text/plain": [
       "'Based on the provided information, the state of the real estate market in the New York District for the year of 2023 can be summarized as follows:\\n\\n- In early 2023, the residential sales market remained subdued in upstate New York, with flat to slightly declining prices and sluggish sales volume. However, sales of single-family homes and apartments picked up in and around New York City, with steady prices and declining inventory.\\n- Residential rental markets firmed, with high rents in Manhattan and increasing rents in Brooklyn, Queens, and upstate New York. Rental vacancy rates remained low.\\n- Commercial real estate markets were generally stable, with slight increases in office vacancy rates in New York City and northern New Jersey. Retail vacancy rates held steady, while industrial vacancy rates increased slightly. Rents were mostly flat or slightly increasing.\\n- Construction conditions weakened, with low levels of new office construction starts and weak multi-family residential starts across the District. Industrial construction remained steady.\\n\\nOverall, the real estate market in the New York District experienced mixed conditions in 2023, with stronger activity and price stability in and around New York City compared to upstate New York.'"
      ]
     },
     "execution_count": 9,
     "metadata": {},
     "output_type": "execute_result"
    }
   ],
   "source": [
    "question = \"Tell me the state of real estate market in the New York District for the year of 2023\"\n",
    "result = qa({\"query\": question})\n",
    "result[\"result\"]"
   ]
  },
  {
   "cell_type": "code",
   "execution_count": 10,
   "id": "0f26c105-65f9-4c31-9799-0820af7f5e15",
   "metadata": {},
   "outputs": [
    {
     "name": "stdout",
     "output_type": "stream",
     "text": [
      "[HumanMessage(content='Tell me the Federal Reserve Bank of San Francisco District labor markets situation in the month of January', additional_kwargs={}, example=False), AIMessage(content='Based on the provided information, the labor market situation in the Federal Reserve Bank of San Francisco District in the month of January showed that employment levels grew at a modest pace. Labor availability improved across the District, leading to a decrease in job turnover and voluntary quits. Hiring difficulties also eased in consumer services sectors such as retail, food services, and hospitality. However, there were still challenges in attracting experienced talent in sectors like health care, legal services, manufacturing, and skilled trades. Some real estate firms and mortgage providers reduced open positions in response to moderating demand. Overall, employers planned to maintain current employment levels to avoid hiring challenges experienced throughout the pandemic.', additional_kwargs={}, example=False), HumanMessage(content='Tell me the state of real estate market in the New York District for the year of 2023', additional_kwargs={}, example=False), AIMessage(content='Based on the provided information, the state of the real estate market in the New York District for the year of 2023 can be summarized as follows:\\n\\n- In early 2023, the residential sales market remained subdued in upstate New York, with flat to slightly declining prices and sluggish sales volume. However, sales of single-family homes and apartments picked up in and around New York City, with steady prices and declining inventory.\\n- Residential rental markets firmed, with high rents in Manhattan and increasing rents in Brooklyn, Queens, and upstate New York. Rental vacancy rates remained low.\\n- Commercial real estate markets were generally stable, with slight increases in office vacancy rates in New York City and northern New Jersey. Retail vacancy rates held steady, while industrial vacancy rates increased slightly. Rents were mostly flat or slightly increasing.\\n- Construction conditions weakened, with low levels of new office construction starts and weak multi-family residential starts across the District. Industrial construction remained steady.\\n\\nOverall, the real estate market in the New York District experienced mixed conditions in 2023, with stronger activity and price stability in and around New York City compared to upstate New York.', additional_kwargs={}, example=False)]\n"
     ]
    }
   ],
   "source": [
    "print(memory.buffer)"
   ]
  },
  {
   "cell_type": "code",
   "execution_count": null,
   "id": "b51ee311-80d9-4743-ac0e-b79a895aea9a",
   "metadata": {},
   "outputs": [],
   "source": []
  }
 ],
 "metadata": {
  "kernelspec": {
   "display_name": "Python 3 (ipykernel)",
   "language": "python",
   "name": "python3"
  },
  "language_info": {
   "codemirror_mode": {
    "name": "ipython",
    "version": 3
   },
   "file_extension": ".py",
   "mimetype": "text/x-python",
   "name": "python",
   "nbconvert_exporter": "python",
   "pygments_lexer": "ipython3",
   "version": "3.11.4"
  }
 },
 "nbformat": 4,
 "nbformat_minor": 5
}
